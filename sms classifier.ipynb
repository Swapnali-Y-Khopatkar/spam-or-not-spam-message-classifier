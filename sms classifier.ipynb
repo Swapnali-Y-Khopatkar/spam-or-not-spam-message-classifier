{
 "cells": [
  {
   "cell_type": "markdown",
   "id": "c2f491d0",
   "metadata": {},
   "source": [
    "# Spam Or Ham: SMS Classifier 📱🤖📲"
   ]
  },
  {
   "cell_type": "code",
   "execution_count": 1,
   "id": "a2605f06",
   "metadata": {},
   "outputs": [],
   "source": [
    "import warnings\n",
    "warnings.filterwarnings(\"ignore\")\n",
    "import matplotlib.pyplot as plt\n",
    "import seaborn as sns\n",
    "import pandas as pd\n",
    "import re\n",
    "import nltk\n",
    "from nltk.corpus import stopwords\n",
    "from nltk.stem.porter import PorterStemmer\n",
    "from nltk.stem import WordNetLemmatizer\n",
    "from sklearn.feature_extraction.text import TfidfVectorizer\n",
    "from sklearn.preprocessing import LabelEncoder\n",
    "from sklearn.model_selection import train_test_split\n",
    "from sklearn.pipeline import Pipeline    \n",
    "from sklearn.naive_bayes import MultinomialNB\n",
    "from sklearn.ensemble import RandomForestClassifier\n",
    "from sklearn.neighbors import KNeighborsClassifier\n",
    "from sklearn.svm import SVC\n",
    "from sklearn.model_selection import cross_val_score\n",
    "from matplotlib.colors import ListedColormap\n",
    "from sklearn.metrics import precision_score, recall_score, plot_confusion_matrix, classification_report, accuracy_score, f1_score\n",
    "from sklearn import metrics"
   ]
  },
  {
   "cell_type": "code",
   "execution_count": 2,
   "id": "8d8387be",
   "metadata": {},
   "outputs": [],
   "source": [
    "#Loading Data\n",
    "data1=pd.read_csv('TrainDataset.csv')"
   ]
  },
  {
   "cell_type": "code",
   "execution_count": 3,
   "id": "e214bae3",
   "metadata": {},
   "outputs": [],
   "source": [
    "data2=pd.read_csv('TestDataset.csv')"
   ]
  },
  {
   "cell_type": "code",
   "execution_count": 4,
   "id": "eb12e048",
   "metadata": {},
   "outputs": [
    {
     "data": {
      "text/html": [
       "<div>\n",
       "<style scoped>\n",
       "    .dataframe tbody tr th:only-of-type {\n",
       "        vertical-align: middle;\n",
       "    }\n",
       "\n",
       "    .dataframe tbody tr th {\n",
       "        vertical-align: top;\n",
       "    }\n",
       "\n",
       "    .dataframe thead th {\n",
       "        text-align: right;\n",
       "    }\n",
       "</style>\n",
       "<table border=\"1\" class=\"dataframe\">\n",
       "  <thead>\n",
       "    <tr style=\"text-align: right;\">\n",
       "      <th></th>\n",
       "      <th>v1</th>\n",
       "      <th>v2</th>\n",
       "    </tr>\n",
       "  </thead>\n",
       "  <tbody>\n",
       "    <tr>\n",
       "      <th>0</th>\n",
       "      <td>spam</td>\n",
       "      <td>U were outbid by simonwatson5120 on the Shinco...</td>\n",
       "    </tr>\n",
       "    <tr>\n",
       "      <th>1</th>\n",
       "      <td>ham</td>\n",
       "      <td>Do you still have the grinder?</td>\n",
       "    </tr>\n",
       "    <tr>\n",
       "      <th>2</th>\n",
       "      <td>ham</td>\n",
       "      <td>No. Yes please. Been swimming?</td>\n",
       "    </tr>\n",
       "    <tr>\n",
       "      <th>3</th>\n",
       "      <td>ham</td>\n",
       "      <td>No de.am seeing in online shop so that i asked.</td>\n",
       "    </tr>\n",
       "    <tr>\n",
       "      <th>4</th>\n",
       "      <td>ham</td>\n",
       "      <td>Faith makes things possible,Hope makes things ...</td>\n",
       "    </tr>\n",
       "    <tr>\n",
       "      <th>...</th>\n",
       "      <td>...</td>\n",
       "      <td>...</td>\n",
       "    </tr>\n",
       "    <tr>\n",
       "      <th>4452</th>\n",
       "      <td>ham</td>\n",
       "      <td>Good. Good job. I like entrepreneurs</td>\n",
       "    </tr>\n",
       "    <tr>\n",
       "      <th>4453</th>\n",
       "      <td>ham</td>\n",
       "      <td>Living is very simple.. Loving is also simple....</td>\n",
       "    </tr>\n",
       "    <tr>\n",
       "      <th>4454</th>\n",
       "      <td>ham</td>\n",
       "      <td>Msgs r not time pass.They silently say that I ...</td>\n",
       "    </tr>\n",
       "    <tr>\n",
       "      <th>4455</th>\n",
       "      <td>ham</td>\n",
       "      <td>What is this 'hex' place you talk of? Explain!</td>\n",
       "    </tr>\n",
       "    <tr>\n",
       "      <th>4456</th>\n",
       "      <td>ham</td>\n",
       "      <td>Sorry, I'll call later</td>\n",
       "    </tr>\n",
       "  </tbody>\n",
       "</table>\n",
       "<p>4457 rows × 2 columns</p>\n",
       "</div>"
      ],
      "text/plain": [
       "        v1                                                 v2\n",
       "0     spam  U were outbid by simonwatson5120 on the Shinco...\n",
       "1      ham                     Do you still have the grinder?\n",
       "2      ham                     No. Yes please. Been swimming?\n",
       "3      ham    No de.am seeing in online shop so that i asked.\n",
       "4      ham  Faith makes things possible,Hope makes things ...\n",
       "...    ...                                                ...\n",
       "4452   ham               Good. Good job. I like entrepreneurs\n",
       "4453   ham  Living is very simple.. Loving is also simple....\n",
       "4454   ham  Msgs r not time pass.They silently say that I ...\n",
       "4455   ham     What is this 'hex' place you talk of? Explain!\n",
       "4456   ham                             Sorry, I'll call later\n",
       "\n",
       "[4457 rows x 2 columns]"
      ]
     },
     "execution_count": 4,
     "metadata": {},
     "output_type": "execute_result"
    }
   ],
   "source": [
    "data1\n"
   ]
  },
  {
   "cell_type": "code",
   "execution_count": 5,
   "id": "a8ede7b1",
   "metadata": {},
   "outputs": [
    {
     "data": {
      "text/html": [
       "<div>\n",
       "<style scoped>\n",
       "    .dataframe tbody tr th:only-of-type {\n",
       "        vertical-align: middle;\n",
       "    }\n",
       "\n",
       "    .dataframe tbody tr th {\n",
       "        vertical-align: top;\n",
       "    }\n",
       "\n",
       "    .dataframe thead th {\n",
       "        text-align: right;\n",
       "    }\n",
       "</style>\n",
       "<table border=\"1\" class=\"dataframe\">\n",
       "  <thead>\n",
       "    <tr style=\"text-align: right;\">\n",
       "      <th></th>\n",
       "      <th>v2</th>\n",
       "    </tr>\n",
       "  </thead>\n",
       "  <tbody>\n",
       "    <tr>\n",
       "      <th>0</th>\n",
       "      <td>Prabha..i'm soryda..realy..frm heart i'm sory</td>\n",
       "    </tr>\n",
       "    <tr>\n",
       "      <th>1</th>\n",
       "      <td>Jus chillaxin, what up</td>\n",
       "    </tr>\n",
       "    <tr>\n",
       "      <th>2</th>\n",
       "      <td>Ok no prob. Take ur time.</td>\n",
       "    </tr>\n",
       "    <tr>\n",
       "      <th>3</th>\n",
       "      <td>Congrats! 2 mobile 3G Videophones R yours. cal...</td>\n",
       "    </tr>\n",
       "    <tr>\n",
       "      <th>4</th>\n",
       "      <td>Thankyou so much for the call. I appreciate yo...</td>\n",
       "    </tr>\n",
       "    <tr>\n",
       "      <th>...</th>\n",
       "      <td>...</td>\n",
       "    </tr>\n",
       "    <tr>\n",
       "      <th>1110</th>\n",
       "      <td>Yo chad which gymnastics class do you wanna ta...</td>\n",
       "    </tr>\n",
       "    <tr>\n",
       "      <th>1111</th>\n",
       "      <td>God created gap btwn ur fingers so dat sum1 vr...</td>\n",
       "    </tr>\n",
       "    <tr>\n",
       "      <th>1112</th>\n",
       "      <td>I'm working technical support :)voice process.</td>\n",
       "    </tr>\n",
       "    <tr>\n",
       "      <th>1113</th>\n",
       "      <td>I told your number to gautham..</td>\n",
       "    </tr>\n",
       "    <tr>\n",
       "      <th>1114</th>\n",
       "      <td>Well she's in for a big surprise!</td>\n",
       "    </tr>\n",
       "  </tbody>\n",
       "</table>\n",
       "<p>1115 rows × 1 columns</p>\n",
       "</div>"
      ],
      "text/plain": [
       "                                                     v2\n",
       "0         Prabha..i'm soryda..realy..frm heart i'm sory\n",
       "1                                Jus chillaxin, what up\n",
       "2                             Ok no prob. Take ur time.\n",
       "3     Congrats! 2 mobile 3G Videophones R yours. cal...\n",
       "4     Thankyou so much for the call. I appreciate yo...\n",
       "...                                                 ...\n",
       "1110  Yo chad which gymnastics class do you wanna ta...\n",
       "1111  God created gap btwn ur fingers so dat sum1 vr...\n",
       "1112     I'm working technical support :)voice process.\n",
       "1113                    I told your number to gautham..\n",
       "1114                  Well she's in for a big surprise!\n",
       "\n",
       "[1115 rows x 1 columns]"
      ]
     },
     "execution_count": 5,
     "metadata": {},
     "output_type": "execute_result"
    }
   ],
   "source": [
    "data2"
   ]
  },
  {
   "cell_type": "code",
   "execution_count": 6,
   "id": "a3f7465b",
   "metadata": {},
   "outputs": [
    {
     "name": "stdout",
     "output_type": "stream",
     "text": [
      "<class 'pandas.core.frame.DataFrame'>\n",
      "RangeIndex: 4457 entries, 0 to 4456\n",
      "Data columns (total 2 columns):\n",
      " #   Column  Non-Null Count  Dtype \n",
      "---  ------  --------------  ----- \n",
      " 0   v1      4457 non-null   object\n",
      " 1   v2      4457 non-null   object\n",
      "dtypes: object(2)\n",
      "memory usage: 69.8+ KB\n"
     ]
    }
   ],
   "source": [
    "data1.info()"
   ]
  },
  {
   "cell_type": "code",
   "execution_count": 7,
   "id": "3c50b7d6",
   "metadata": {},
   "outputs": [
    {
     "name": "stdout",
     "output_type": "stream",
     "text": [
      "<class 'pandas.core.frame.DataFrame'>\n",
      "RangeIndex: 1115 entries, 0 to 1114\n",
      "Data columns (total 1 columns):\n",
      " #   Column  Non-Null Count  Dtype \n",
      "---  ------  --------------  ----- \n",
      " 0   v2      1115 non-null   object\n",
      "dtypes: object(1)\n",
      "memory usage: 8.8+ KB\n"
     ]
    }
   ],
   "source": [
    "data2.info()"
   ]
  },
  {
   "cell_type": "code",
   "execution_count": 8,
   "id": "bfdb8ad8",
   "metadata": {},
   "outputs": [],
   "source": [
    "#we will change the column names\n",
    "data1.rename(columns={'v1':\"Target\"},inplace=True)\n",
    "data1.rename(columns={'v2':'Text'},inplace=True)"
   ]
  },
  {
   "cell_type": "code",
   "execution_count": 9,
   "id": "806d62d8",
   "metadata": {},
   "outputs": [],
   "source": [
    "data2.rename(columns={'v2':'Text'},inplace=True)"
   ]
  },
  {
   "cell_type": "code",
   "execution_count": 10,
   "id": "f7dd5e26",
   "metadata": {},
   "outputs": [
    {
     "data": {
      "text/html": [
       "<div>\n",
       "<style scoped>\n",
       "    .dataframe tbody tr th:only-of-type {\n",
       "        vertical-align: middle;\n",
       "    }\n",
       "\n",
       "    .dataframe tbody tr th {\n",
       "        vertical-align: top;\n",
       "    }\n",
       "\n",
       "    .dataframe thead th {\n",
       "        text-align: right;\n",
       "    }\n",
       "</style>\n",
       "<table border=\"1\" class=\"dataframe\">\n",
       "  <thead>\n",
       "    <tr style=\"text-align: right;\">\n",
       "      <th></th>\n",
       "      <th>Target</th>\n",
       "      <th>Text</th>\n",
       "    </tr>\n",
       "  </thead>\n",
       "  <tbody>\n",
       "    <tr>\n",
       "      <th>0</th>\n",
       "      <td>spam</td>\n",
       "      <td>U were outbid by simonwatson5120 on the Shinco...</td>\n",
       "    </tr>\n",
       "    <tr>\n",
       "      <th>1</th>\n",
       "      <td>ham</td>\n",
       "      <td>Do you still have the grinder?</td>\n",
       "    </tr>\n",
       "    <tr>\n",
       "      <th>2</th>\n",
       "      <td>ham</td>\n",
       "      <td>No. Yes please. Been swimming?</td>\n",
       "    </tr>\n",
       "    <tr>\n",
       "      <th>3</th>\n",
       "      <td>ham</td>\n",
       "      <td>No de.am seeing in online shop so that i asked.</td>\n",
       "    </tr>\n",
       "    <tr>\n",
       "      <th>4</th>\n",
       "      <td>ham</td>\n",
       "      <td>Faith makes things possible,Hope makes things ...</td>\n",
       "    </tr>\n",
       "    <tr>\n",
       "      <th>...</th>\n",
       "      <td>...</td>\n",
       "      <td>...</td>\n",
       "    </tr>\n",
       "    <tr>\n",
       "      <th>4452</th>\n",
       "      <td>ham</td>\n",
       "      <td>Good. Good job. I like entrepreneurs</td>\n",
       "    </tr>\n",
       "    <tr>\n",
       "      <th>4453</th>\n",
       "      <td>ham</td>\n",
       "      <td>Living is very simple.. Loving is also simple....</td>\n",
       "    </tr>\n",
       "    <tr>\n",
       "      <th>4454</th>\n",
       "      <td>ham</td>\n",
       "      <td>Msgs r not time pass.They silently say that I ...</td>\n",
       "    </tr>\n",
       "    <tr>\n",
       "      <th>4455</th>\n",
       "      <td>ham</td>\n",
       "      <td>What is this 'hex' place you talk of? Explain!</td>\n",
       "    </tr>\n",
       "    <tr>\n",
       "      <th>4456</th>\n",
       "      <td>ham</td>\n",
       "      <td>Sorry, I'll call later</td>\n",
       "    </tr>\n",
       "  </tbody>\n",
       "</table>\n",
       "<p>4457 rows × 2 columns</p>\n",
       "</div>"
      ],
      "text/plain": [
       "     Target                                               Text\n",
       "0      spam  U were outbid by simonwatson5120 on the Shinco...\n",
       "1       ham                     Do you still have the grinder?\n",
       "2       ham                     No. Yes please. Been swimming?\n",
       "3       ham    No de.am seeing in online shop so that i asked.\n",
       "4       ham  Faith makes things possible,Hope makes things ...\n",
       "...     ...                                                ...\n",
       "4452    ham               Good. Good job. I like entrepreneurs\n",
       "4453    ham  Living is very simple.. Loving is also simple....\n",
       "4454    ham  Msgs r not time pass.They silently say that I ...\n",
       "4455    ham     What is this 'hex' place you talk of? Explain!\n",
       "4456    ham                             Sorry, I'll call later\n",
       "\n",
       "[4457 rows x 2 columns]"
      ]
     },
     "execution_count": 10,
     "metadata": {},
     "output_type": "execute_result"
    }
   ],
   "source": [
    "data1"
   ]
  },
  {
   "cell_type": "markdown",
   "id": "92e8b834",
   "metadata": {},
   "source": [
    "#### The Train dataset consists of 4457 messages in English. The data is designated as being ham or spam. Dataframe has two columns. The first column is \"Target\" indicating the class of message as ham or spam and the second \"Text\" column is the string of text."
   ]
  },
  {
   "cell_type": "code",
   "execution_count": 11,
   "id": "e5812152",
   "metadata": {},
   "outputs": [
    {
     "data": {
      "text/plain": [
       "<AxesSubplot:xlabel='Target', ylabel='count'>"
      ]
     },
     "execution_count": 11,
     "metadata": {},
     "output_type": "execute_result"
    },
    {
     "data": {
      "image/png": "[encoded data removed]",
      "text/plain": [
       "<Figure size 864x576 with 1 Axes>"
      ]
     },
     "metadata": {
      "needs_background": "light"
     },
     "output_type": "display_data"
    }
   ],
   "source": [
    "plt.figure(figsize=(12,8))\n",
    "sns.countplot(data1['Target'])"
   ]
  },
  {
   "cell_type": "code",
   "execution_count": 12,
   "id": "b00d0264",
   "metadata": {},
   "outputs": [
    {
     "data": {
      "text/html": [
       "<div>\n",
       "<style scoped>\n",
       "    .dataframe tbody tr th:only-of-type {\n",
       "        vertical-align: middle;\n",
       "    }\n",
       "\n",
       "    .dataframe tbody tr th {\n",
       "        vertical-align: top;\n",
       "    }\n",
       "\n",
       "    .dataframe thead th {\n",
       "        text-align: right;\n",
       "    }\n",
       "</style>\n",
       "<table border=\"1\" class=\"dataframe\">\n",
       "  <thead>\n",
       "    <tr style=\"text-align: right;\">\n",
       "      <th></th>\n",
       "      <th>Target</th>\n",
       "      <th>Text</th>\n",
       "    </tr>\n",
       "  </thead>\n",
       "  <tbody>\n",
       "    <tr>\n",
       "      <th>0</th>\n",
       "      <td>spam</td>\n",
       "      <td>U were outbid by simonwatson5120 on the Shinco...</td>\n",
       "    </tr>\n",
       "    <tr>\n",
       "      <th>1</th>\n",
       "      <td>ham</td>\n",
       "      <td>Do you still have the grinder?</td>\n",
       "    </tr>\n",
       "    <tr>\n",
       "      <th>2</th>\n",
       "      <td>ham</td>\n",
       "      <td>No. Yes please. Been swimming?</td>\n",
       "    </tr>\n",
       "    <tr>\n",
       "      <th>3</th>\n",
       "      <td>ham</td>\n",
       "      <td>No de.am seeing in online shop so that i asked.</td>\n",
       "    </tr>\n",
       "    <tr>\n",
       "      <th>4</th>\n",
       "      <td>ham</td>\n",
       "      <td>Faith makes things possible,Hope makes things ...</td>\n",
       "    </tr>\n",
       "  </tbody>\n",
       "</table>\n",
       "</div>"
      ],
      "text/plain": [
       "  Target                                               Text\n",
       "0   spam  U were outbid by simonwatson5120 on the Shinco...\n",
       "1    ham                     Do you still have the grinder?\n",
       "2    ham                     No. Yes please. Been swimming?\n",
       "3    ham    No de.am seeing in online shop so that i asked.\n",
       "4    ham  Faith makes things possible,Hope makes things ..."
      ]
     },
     "execution_count": 12,
     "metadata": {},
     "output_type": "execute_result"
    }
   ],
   "source": [
    "data1.head()"
   ]
  },
  {
   "cell_type": "markdown",
   "id": "746fbee1",
   "metadata": {},
   "source": [
    "#### For the purpose of data exploration, I am creating new features\n",
    "\n",
    "No_of_Characters: Number of characters in the text message\n",
    "\n",
    "No_of_Words: Number of words in the text message\n",
    "\n",
    "No_of_sentence: Number of sentences in the text message"
   ]
  },
  {
   "cell_type": "code",
   "execution_count": 13,
   "id": "d7e4cc03",
   "metadata": {},
   "outputs": [],
   "source": [
    "data1[\"No_of_Characters\"] = data1[\"Text\"].apply(len)\n",
    "data1[\"No_of_Words\"]=data1.apply(lambda row: nltk.word_tokenize(row[\"Text\"]), axis=1).apply(len)\n",
    "data1[\"No_of_sentence\"]=data1.apply(lambda row: nltk.sent_tokenize(row[\"Text\"]), axis=1).apply(len)\n"
   ]
  },
  {
   "cell_type": "code",
   "execution_count": 14,
   "id": "45af4272",
   "metadata": {},
   "outputs": [
    {
     "data": {
      "text/html": [
       "<div>\n",
       "<style scoped>\n",
       "    .dataframe tbody tr th:only-of-type {\n",
       "        vertical-align: middle;\n",
       "    }\n",
       "\n",
       "    .dataframe tbody tr th {\n",
       "        vertical-align: top;\n",
       "    }\n",
       "\n",
       "    .dataframe thead th {\n",
       "        text-align: right;\n",
       "    }\n",
       "</style>\n",
       "<table border=\"1\" class=\"dataframe\">\n",
       "  <thead>\n",
       "    <tr style=\"text-align: right;\">\n",
       "      <th></th>\n",
       "      <th>No_of_Characters</th>\n",
       "      <th>No_of_Words</th>\n",
       "      <th>No_of_sentence</th>\n",
       "    </tr>\n",
       "  </thead>\n",
       "  <tbody>\n",
       "    <tr>\n",
       "      <th>count</th>\n",
       "      <td>4457.000000</td>\n",
       "      <td>4457.000000</td>\n",
       "      <td>4457.000000</td>\n",
       "    </tr>\n",
       "    <tr>\n",
       "      <th>mean</th>\n",
       "      <td>80.166704</td>\n",
       "      <td>18.737716</td>\n",
       "      <td>1.967691</td>\n",
       "    </tr>\n",
       "    <tr>\n",
       "      <th>std</th>\n",
       "      <td>59.916000</td>\n",
       "      <td>13.855503</td>\n",
       "      <td>1.434018</td>\n",
       "    </tr>\n",
       "    <tr>\n",
       "      <th>min</th>\n",
       "      <td>2.000000</td>\n",
       "      <td>1.000000</td>\n",
       "      <td>1.000000</td>\n",
       "    </tr>\n",
       "    <tr>\n",
       "      <th>25%</th>\n",
       "      <td>36.000000</td>\n",
       "      <td>9.000000</td>\n",
       "      <td>1.000000</td>\n",
       "    </tr>\n",
       "    <tr>\n",
       "      <th>50%</th>\n",
       "      <td>62.000000</td>\n",
       "      <td>15.000000</td>\n",
       "      <td>1.000000</td>\n",
       "    </tr>\n",
       "    <tr>\n",
       "      <th>75%</th>\n",
       "      <td>121.000000</td>\n",
       "      <td>27.000000</td>\n",
       "      <td>2.000000</td>\n",
       "    </tr>\n",
       "    <tr>\n",
       "      <th>max</th>\n",
       "      <td>910.000000</td>\n",
       "      <td>220.000000</td>\n",
       "      <td>28.000000</td>\n",
       "    </tr>\n",
       "  </tbody>\n",
       "</table>\n",
       "</div>"
      ],
      "text/plain": [
       "       No_of_Characters  No_of_Words  No_of_sentence\n",
       "count       4457.000000  4457.000000     4457.000000\n",
       "mean          80.166704    18.737716        1.967691\n",
       "std           59.916000    13.855503        1.434018\n",
       "min            2.000000     1.000000        1.000000\n",
       "25%           36.000000     9.000000        1.000000\n",
       "50%           62.000000    15.000000        1.000000\n",
       "75%          121.000000    27.000000        2.000000\n",
       "max          910.000000   220.000000       28.000000"
      ]
     },
     "execution_count": 14,
     "metadata": {},
     "output_type": "execute_result"
    }
   ],
   "source": [
    "data1.describe()"
   ]
  },
  {
   "cell_type": "code",
   "execution_count": 15,
   "id": "6620a9f0",
   "metadata": {},
   "outputs": [],
   "source": [
    "data2[\"No_of_Characters\"] = data2[\"Text\"].apply(len)\n",
    "data2[\"No_of_Words\"]=data2.apply(lambda row: nltk.word_tokenize(row[\"Text\"]), axis=1).apply(len)\n",
    "data2[\"No_of_sentence\"]=data2.apply(lambda row: nltk.sent_tokenize(row[\"Text\"]), axis=1).apply(len)\n"
   ]
  },
  {
   "cell_type": "code",
   "execution_count": 16,
   "id": "21acc28c",
   "metadata": {},
   "outputs": [
    {
     "data": {
      "text/html": [
       "<div>\n",
       "<style scoped>\n",
       "    .dataframe tbody tr th:only-of-type {\n",
       "        vertical-align: middle;\n",
       "    }\n",
       "\n",
       "    .dataframe tbody tr th {\n",
       "        vertical-align: top;\n",
       "    }\n",
       "\n",
       "    .dataframe thead th {\n",
       "        text-align: right;\n",
       "    }\n",
       "</style>\n",
       "<table border=\"1\" class=\"dataframe\">\n",
       "  <thead>\n",
       "    <tr style=\"text-align: right;\">\n",
       "      <th></th>\n",
       "      <th>No_of_Characters</th>\n",
       "      <th>No_of_Words</th>\n",
       "      <th>No_of_sentence</th>\n",
       "    </tr>\n",
       "  </thead>\n",
       "  <tbody>\n",
       "    <tr>\n",
       "      <th>count</th>\n",
       "      <td>1115.000000</td>\n",
       "      <td>1115.000000</td>\n",
       "      <td>1115.000000</td>\n",
       "    </tr>\n",
       "    <tr>\n",
       "      <th>mean</th>\n",
       "      <td>79.927354</td>\n",
       "      <td>18.527354</td>\n",
       "      <td>1.982960</td>\n",
       "    </tr>\n",
       "    <tr>\n",
       "      <th>std</th>\n",
       "      <td>58.808388</td>\n",
       "      <td>13.286375</td>\n",
       "      <td>1.351466</td>\n",
       "    </tr>\n",
       "    <tr>\n",
       "      <th>min</th>\n",
       "      <td>2.000000</td>\n",
       "      <td>1.000000</td>\n",
       "      <td>1.000000</td>\n",
       "    </tr>\n",
       "    <tr>\n",
       "      <th>25%</th>\n",
       "      <td>35.000000</td>\n",
       "      <td>9.000000</td>\n",
       "      <td>1.000000</td>\n",
       "    </tr>\n",
       "    <tr>\n",
       "      <th>50%</th>\n",
       "      <td>59.000000</td>\n",
       "      <td>15.000000</td>\n",
       "      <td>2.000000</td>\n",
       "    </tr>\n",
       "    <tr>\n",
       "      <th>75%</th>\n",
       "      <td>121.500000</td>\n",
       "      <td>26.500000</td>\n",
       "      <td>3.000000</td>\n",
       "    </tr>\n",
       "    <tr>\n",
       "      <th>max</th>\n",
       "      <td>482.000000</td>\n",
       "      <td>113.000000</td>\n",
       "      <td>13.000000</td>\n",
       "    </tr>\n",
       "  </tbody>\n",
       "</table>\n",
       "</div>"
      ],
      "text/plain": [
       "       No_of_Characters  No_of_Words  No_of_sentence\n",
       "count       1115.000000  1115.000000     1115.000000\n",
       "mean          79.927354    18.527354        1.982960\n",
       "std           58.808388    13.286375        1.351466\n",
       "min            2.000000     1.000000        1.000000\n",
       "25%           35.000000     9.000000        1.000000\n",
       "50%           59.000000    15.000000        2.000000\n",
       "75%          121.500000    26.500000        3.000000\n",
       "max          482.000000   113.000000       13.000000"
      ]
     },
     "execution_count": 16,
     "metadata": {},
     "output_type": "execute_result"
    }
   ],
   "source": [
    "data2.describe()"
   ]
  },
  {
   "cell_type": "code",
   "execution_count": 17,
   "id": "2fe13204",
   "metadata": {},
   "outputs": [
    {
     "data": {
      "text/plain": [
       "<Figure size 864x576 with 0 Axes>"
      ]
     },
     "metadata": {},
     "output_type": "display_data"
    },
    {
     "data": {
      "image/png": "[encoded data removed]",
      "text/plain": [
       "<Figure size 603.25x540 with 12 Axes>"
      ]
     },
     "metadata": {
      "needs_background": "light"
     },
     "output_type": "display_data"
    }
   ],
   "source": [
    "plt.figure(figsize=(12,8))\n",
    "fg = sns.pairplot(data=data1, hue=\"Target\")\n",
    "plt.show(fg)"
   ]
  },
  {
   "cell_type": "markdown",
   "id": "2c856684",
   "metadata": {},
   "source": [
    "#### Note: \n",
    "From the pair plot, we can see a few outliers all in the class ham. This is interesting as we could put a cap over one of these. As they essentially indicate the same thing ie the length of SMS.\n",
    "\n",
    "Next, I shall be dropping the outliers"
   ]
  },
  {
   "cell_type": "code",
   "execution_count": 18,
   "id": "4ab9e824",
   "metadata": {},
   "outputs": [
    {
     "data": {
      "text/plain": [
       "(4438, 5)"
      ]
     },
     "execution_count": 18,
     "metadata": {},
     "output_type": "execute_result"
    }
   ],
   "source": [
    "#Dropping the outliers. \n",
    "data1 = data1[(data1[\"No_of_Characters\"]<350)]\n",
    "data1.shape"
   ]
  },
  {
   "cell_type": "code",
   "execution_count": 19,
   "id": "973f140b",
   "metadata": {},
   "outputs": [
    {
     "data": {
      "text/plain": [
       "<Figure size 864x576 with 0 Axes>"
      ]
     },
     "metadata": {},
     "output_type": "display_data"
    },
    {
     "data": {
      "image/png": "[encoded data removed]",
      "text/plain": [
       "<Figure size 603.25x540 with 12 Axes>"
      ]
     },
     "metadata": {
      "needs_background": "light"
     },
     "output_type": "display_data"
    }
   ],
   "source": [
    "plt.figure(figsize=(12,8))\n",
    "fg = sns.pairplot(data=data1, hue=\"Target\")\n",
    "plt.show(fg)\n"
   ]
  },
  {
   "cell_type": "markdown",
   "id": "6c0c3db0",
   "metadata": {},
   "source": [
    "\n",
    "The data cleaning process NLP is crucial. The computer doesn’t understand the text. for the computer, it is just a cluster of symbols. To further process the data we need to make the data cleaner.\n",
    "\n",
    "In the first step we extract only the alphabetic characters by this we are removing punctuation and numbers.\n",
    "In the next step, we are converting all the characters into lowercase.\n",
    "This text will be then used in further procrssing"
   ]
  },
  {
   "cell_type": "code",
   "execution_count": 20,
   "id": "9dcdad9c",
   "metadata": {},
   "outputs": [
    {
     "name": "stdout",
     "output_type": "stream",
     "text": [
      "\u001b[1m\u001b[45;1m The First 5 Texts:\u001b[0m\n",
      "U were outbid by simonwatson5120 on the Shinco DVD Plyr. 2 bid again, visit sms. ac/smsrewards 2 end bid notifications, reply END OUT\n",
      "Do you still have the grinder?\n",
      "No. Yes please. Been swimming?\n",
      "No de.am seeing in online shop so that i asked.\n",
      "Faith makes things possible,Hope makes things work,Love makes things beautiful,May you have all three this Christmas!Merry Christmas!\n"
     ]
    }
   ],
   "source": [
    "#Lets have a look at a sample of texts before cleaning\n",
    "print(\"\\033[1m\\u001b[45;1m The First 5 Texts:\\033[0m\",*data1[\"Text\"][:5], sep = \"\\n\")"
   ]
  },
  {
   "cell_type": "code",
   "execution_count": 21,
   "id": "2cb09315",
   "metadata": {},
   "outputs": [
    {
     "name": "stdout",
     "output_type": "stream",
     "text": [
      "\u001b[1m\u001b[45;1m The First 5 Texts of test dataset:\u001b[0m\n",
      "Prabha..i'm soryda..realy..frm heart i'm sory\n",
      "Jus chillaxin, what up\n",
      "Ok no prob. Take ur time.\n",
      "Congrats! 2 mobile 3G Videophones R yours. call 09061744553 now! videochat wid ur mates, play java games, Dload polyH music, noline rentl. bx420. ip4. 5we. 150pm\n",
      "Thankyou so much for the call. I appreciate your care.\n"
     ]
    }
   ],
   "source": [
    "#Lets have a look at a sample of texts before cleaning for test dataset\n",
    "print(\"\\033[1m\\u001b[45;1m The First 5 Texts of test dataset:\\033[0m\",*data2[\"Text\"][:5], sep = \"\\n\")"
   ]
  },
  {
   "cell_type": "code",
   "execution_count": 22,
   "id": "65d9f1d1",
   "metadata": {},
   "outputs": [
    {
     "name": "stdout",
     "output_type": "stream",
     "text": [
      "\u001b[1m\u001b[45;1m The First 5 Texts after cleaning:\u001b[0m\n",
      "u were outbid by simonwatson on the shinco dvd plyr bid again visit sms ac smsrewards end bid notifications reply end out\n",
      "do you still have the grinder\n",
      "no yes please been swimming\n",
      "no de am seeing in online shop so that i asked\n",
      "faith makes things possible hope makes things work love makes things beautiful may you have all three this christmas merry christmas\n"
     ]
    }
   ],
   "source": [
    "# Defining a function to clean up the text\n",
    "def Clean(Text):\n",
    "    sms = re.sub('[^a-zA-Z]', ' ', Text) #Replacing all non-alphabetic characters with a space\n",
    "    sms = sms.lower() #converting to lowecase\n",
    "    sms = sms.split()\n",
    "    sms = ' '.join(sms)\n",
    "    return sms\n",
    "\n",
    "data1[\"Clean_Text\"] = data1[\"Text\"].apply(Clean)\n",
    "#Lets have a look at a sample of texts after cleaning\n",
    "print(\"\\033[1m\\u001b[45;1m The First 5 Texts after cleaning:\\033[0m\",*data1[\"Clean_Text\"][:5], sep = \"\\n\")"
   ]
  },
  {
   "cell_type": "code",
   "execution_count": 23,
   "id": "6f04942e",
   "metadata": {},
   "outputs": [
    {
     "name": "stdout",
     "output_type": "stream",
     "text": [
      "\u001b[1m\u001b[45;1m The First 5 Texts of test dataset after cleaning:\u001b[0m\n",
      "prabha i m soryda realy frm heart i m sory\n",
      "jus chillaxin what up\n",
      "ok no prob take ur time\n",
      "congrats mobile g videophones r yours call now videochat wid ur mates play java games dload polyh music noline rentl bx ip we pm\n",
      "thankyou so much for the call i appreciate your care\n"
     ]
    }
   ],
   "source": [
    "# Defining a function to clean up the text of test dataset\n",
    "def Clean(Text):\n",
    "    sms = re.sub('[^a-zA-Z]', ' ', Text) #Replacing all non-alphabetic characters with a space\n",
    "    sms = sms.lower() #converting to lowecase\n",
    "    sms = sms.split()\n",
    "    sms = ' '.join(sms)\n",
    "    return sms\n",
    "\n",
    "data2[\"Clean_Text\"] = data2[\"Text\"].apply(Clean)\n",
    "#Lets have a look at a sample of texts after cleaning\n",
    "print(\"\\033[1m\\u001b[45;1m The First 5 Texts of test dataset after cleaning:\\033[0m\",*data2[\"Clean_Text\"][:5], sep = \"\\n\")"
   ]
  },
  {
   "cell_type": "markdown",
   "id": "62b9a465",
   "metadata": {},
   "source": [
    "Tokenization is breaking complex data into smaller units called tokens. It can be done by splitting paragraphs into sentences and sentences into words. I am splitting the Clean_Text into words at this step."
   ]
  },
  {
   "cell_type": "code",
   "execution_count": 24,
   "id": "878ccb36",
   "metadata": {},
   "outputs": [
    {
     "name": "stdout",
     "output_type": "stream",
     "text": [
      "\u001b[1m\u001b[45;1m The First 5 Texts after Tokenizing:\u001b[0m\n",
      "['u', 'were', 'outbid', 'by', 'simonwatson', 'on', 'the', 'shinco', 'dvd', 'plyr', 'bid', 'again', 'visit', 'sms', 'ac', 'smsrewards', 'end', 'bid', 'notifications', 'reply', 'end', 'out']\n",
      "['do', 'you', 'still', 'have', 'the', 'grinder']\n",
      "['no', 'yes', 'please', 'been', 'swimming']\n",
      "['no', 'de', 'am', 'seeing', 'in', 'online', 'shop', 'so', 'that', 'i', 'asked']\n",
      "['faith', 'makes', 'things', 'possible', 'hope', 'makes', 'things', 'work', 'love', 'makes', 'things', 'beautiful', 'may', 'you', 'have', 'all', 'three', 'this', 'christmas', 'merry', 'christmas']\n"
     ]
    }
   ],
   "source": [
    "data1[\"Tokenize_Text\"]=data1.apply(lambda row: nltk.word_tokenize(row[\"Clean_Text\"]), axis=1)\n",
    "\n",
    "print(\"\\033[1m\\u001b[45;1m The First 5 Texts after Tokenizing:\\033[0m\",*data1[\"Tokenize_Text\"][:5], sep = \"\\n\")"
   ]
  },
  {
   "cell_type": "code",
   "execution_count": 25,
   "id": "1a1db7e0",
   "metadata": {},
   "outputs": [
    {
     "name": "stdout",
     "output_type": "stream",
     "text": [
      "\u001b[1m\u001b[45;1m The First 5 Texts of test data set after Tokenizing:\u001b[0m\n",
      "['prabha', 'i', 'm', 'soryda', 'realy', 'frm', 'heart', 'i', 'm', 'sory']\n",
      "['jus', 'chillaxin', 'what', 'up']\n",
      "['ok', 'no', 'prob', 'take', 'ur', 'time']\n",
      "['congrats', 'mobile', 'g', 'videophones', 'r', 'yours', 'call', 'now', 'videochat', 'wid', 'ur', 'mates', 'play', 'java', 'games', 'dload', 'polyh', 'music', 'noline', 'rentl', 'bx', 'ip', 'we', 'pm']\n",
      "['thankyou', 'so', 'much', 'for', 'the', 'call', 'i', 'appreciate', 'your', 'care']\n"
     ]
    }
   ],
   "source": [
    "data2[\"Tokenize_Text\"]=data2.apply(lambda row: nltk.word_tokenize(row[\"Clean_Text\"]), axis=1)\n",
    "\n",
    "print(\"\\033[1m\\u001b[45;1m The First 5 Texts of test data set after Tokenizing:\\033[0m\",*data2[\"Tokenize_Text\"][:5], sep = \"\\n\")\n"
   ]
  },
  {
   "cell_type": "markdown",
   "id": "fce14d09",
   "metadata": {},
   "source": [
    "Stopwords are frequently occurring words(such as few, is, an, etc). These words hold meaning in sentence structure, but do not contribute much to language processing in NLP. For the purpose of removing redundancy in our processing, I am removing those. NLTK library has a set of default stopwords that we will be removing.\n",
    "\n"
   ]
  },
  {
   "cell_type": "code",
   "execution_count": 26,
   "id": "fb339706",
   "metadata": {},
   "outputs": [
    {
     "name": "stdout",
     "output_type": "stream",
     "text": [
      "\u001b[1m\u001b[45;1m The First 5 Texts after removing the stopwords:\u001b[0m\n",
      "['u', 'outbid', 'simonwatson', 'shinco', 'dvd', 'plyr', 'bid', 'visit', 'sms', 'ac', 'smsrewards', 'end', 'bid', 'notifications', 'reply', 'end']\n",
      "['still', 'grinder']\n",
      "['yes', 'please', 'swimming']\n",
      "['de', 'seeing', 'online', 'shop', 'asked']\n",
      "['faith', 'makes', 'things', 'possible', 'hope', 'makes', 'things', 'work', 'love', 'makes', 'things', 'beautiful', 'may', 'three', 'christmas', 'merry', 'christmas']\n"
     ]
    }
   ],
   "source": [
    "# Removing the stopwords function\n",
    "def remove_stopwords(text):\n",
    "    stop_words = set(stopwords.words(\"english\"))\n",
    "    filtered_text = [word for word in text if word not in stop_words]\n",
    "    return filtered_text\n",
    "\n",
    "data1[\"Nostopword_Text\"] = data1[\"Tokenize_Text\"].apply(remove_stopwords)\n",
    "\n",
    "print(\"\\033[1m\\u001b[45;1m The First 5 Texts after removing the stopwords:\\033[0m\",*data1[\"Nostopword_Text\"][:5], sep = \"\\n\")"
   ]
  },
  {
   "cell_type": "code",
   "execution_count": 27,
   "id": "9d83dc79",
   "metadata": {},
   "outputs": [
    {
     "name": "stdout",
     "output_type": "stream",
     "text": [
      "\u001b[1m\u001b[45;1m The First 5 Texts of test dataset after removing the stopwords:\u001b[0m\n",
      "['prabha', 'soryda', 'realy', 'frm', 'heart', 'sory']\n",
      "['jus', 'chillaxin']\n",
      "['ok', 'prob', 'take', 'ur', 'time']\n",
      "['congrats', 'mobile', 'g', 'videophones', 'r', 'call', 'videochat', 'wid', 'ur', 'mates', 'play', 'java', 'games', 'dload', 'polyh', 'music', 'noline', 'rentl', 'bx', 'ip', 'pm']\n",
      "['thankyou', 'much', 'call', 'appreciate', 'care']\n"
     ]
    }
   ],
   "source": [
    "# Removing the stopwords function\n",
    "def remove_stopwords(text):\n",
    "    stop_words = set(stopwords.words(\"english\"))\n",
    "    filtered_text = [word for word in text if word not in stop_words]\n",
    "    return filtered_text\n",
    "\n",
    "data2[\"Nostopword_Text\"] = data2[\"Tokenize_Text\"].apply(remove_stopwords)\n",
    "\n",
    "print(\"\\033[1m\\u001b[45;1m The First 5 Texts of test dataset after removing the stopwords:\\033[0m\",*data2[\"Nostopword_Text\"][:5], sep = \"\\n\")"
   ]
  },
  {
   "cell_type": "markdown",
   "id": "cda9d8ea",
   "metadata": {},
   "source": [
    "Stemming is the process of getting the root form of a word. Stem or root is the part to which inflectional affixes are added. The stem of a word is created by removing the prefix or suffix of a word. It goes back to the etymology of the word. Languages evolve over time. Many different languages branch into each other; for example, English is a derivative of Latin. Thus, stemming a word takes it back to the root word.\n",
    "\n",
    "lemmatization also converts a word to its root form. However, the difference is that lemmatization ensures that the root word belongs to the language one is dealing with, in our case it is English. If we use lemmatization the output would be in English."
   ]
  },
  {
   "cell_type": "code",
   "execution_count": 28,
   "id": "1ab687d6",
   "metadata": {},
   "outputs": [
    {
     "name": "stdout",
     "output_type": "stream",
     "text": [
      "\u001b[1m\u001b[45;1m The First 5 Texts after lemitization:\u001b[0m\n",
      "['u', 'outbid', 'simonwatson', 'shinco', 'dvd', 'plyr', 'bid', 'visit', 'sms', 'ac', 'smsrewards', 'end', 'bid', 'notifications', 'reply', 'end']\n",
      "['still', 'grinder']\n",
      "['yes', 'please', 'swim']\n",
      "['de', 'see', 'online', 'shop', 'ask']\n",
      "['faith', 'make', 'things', 'possible', 'hope', 'make', 'things', 'work', 'love', 'make', 'things', 'beautiful', 'may', 'three', 'christmas', 'merry', 'christmas']\n"
     ]
    }
   ],
   "source": [
    "lemmatizer = WordNetLemmatizer()\n",
    "# lemmatize string\n",
    "def lemmatize_word(text):\n",
    "    #word_tokens = word_tokenize(text)\n",
    "    # provide context i.e. part-of-speech\n",
    "    lemmas = [lemmatizer.lemmatize(word, pos ='v') for word in text]\n",
    "    return lemmas\n",
    "\n",
    "data1[\"Lemmatized_Text\"] = data1[\"Nostopword_Text\"].apply(lemmatize_word)\n",
    "print(\"\\033[1m\\u001b[45;1m The First 5 Texts after lemitization:\\033[0m\",*data1[\"Lemmatized_Text\"][:5], sep = \"\\n\")"
   ]
  },
  {
   "cell_type": "code",
   "execution_count": 29,
   "id": "1165779a",
   "metadata": {},
   "outputs": [
    {
     "name": "stdout",
     "output_type": "stream",
     "text": [
      "\u001b[1m\u001b[45;1m The First 5 Texts of test dataset after lemitization:\u001b[0m\n",
      "['prabha', 'soryda', 'realy', 'frm', 'heart', 'sory']\n",
      "['jus', 'chillaxin']\n",
      "['ok', 'prob', 'take', 'ur', 'time']\n",
      "['congrats', 'mobile', 'g', 'videophones', 'r', 'call', 'videochat', 'wid', 'ur', 'mat', 'play', 'java', 'game', 'dload', 'polyh', 'music', 'noline', 'rentl', 'bx', 'ip', 'pm']\n",
      "['thankyou', 'much', 'call', 'appreciate', 'care']\n"
     ]
    }
   ],
   "source": [
    "lemmatizer = WordNetLemmatizer()\n",
    "# lemmatize string\n",
    "def lemmatize_word(text):\n",
    "    #word_tokens = word_tokenize(text)\n",
    "    # provide context i.e. part-of-speech\n",
    "    lemmas = [lemmatizer.lemmatize(word, pos ='v') for word in text]\n",
    "    return lemmas\n",
    "\n",
    "data2[\"Lemmatized_Text\"] = data2[\"Nostopword_Text\"].apply(lemmatize_word)\n",
    "print(\"\\033[1m\\u001b[45;1m The First 5 Texts of test dataset after lemitization:\\033[0m\",*data2[\"Lemmatized_Text\"][:5], sep = \"\\n\")"
   ]
  },
  {
   "cell_type": "markdown",
   "id": "47444ad5",
   "metadata": {},
   "source": [
    "TF-IDF in NLP stands for Term Frequency – Inverse document frequency. In NLP cleaned data needs to be converted into a numerical format where each word is represented by a matrix. This is also known as word embedding or Word vectorization.\n",
    "\n",
    "Term Frequency (TF) = (Frequency of a term in the document)/(Total number of terms in documents) Inverse Document Frequency(IDF) = log( (total number of documents)/(number of documents with term t)) I will be using TfidfVectorizer() to vectorize the preprocessed data.\n",
    "\n",
    "Steps in the Vectorizing:\n",
    "\n",
    "Creating a corpus of lemmatized text\n",
    "Converting the corpus in vector form\n",
    "Label Encoding the classes in Target\n",
    "Note: So far we have been stalking up columns in our data for the purpose of explanation\n"
   ]
  },
  {
   "cell_type": "code",
   "execution_count": 30,
   "id": "16f870e3",
   "metadata": {},
   "outputs": [
    {
     "name": "stdout",
     "output_type": "stream",
     "text": [
      "\u001b[1m\u001b[45;1m The First 5 lines in corpus :\u001b[0m\n",
      "u outbid simonwatson shinco dvd plyr bid visit sms ac smsrewards end bid notifications reply end\n",
      "still grinder\n",
      "yes please swim\n",
      "de see online shop ask\n",
      "faith make things possible hope make things work love make things beautiful may three christmas merry christmas\n"
     ]
    }
   ],
   "source": [
    "#Creating a corpus of text feature to encode further into vectorized form\n",
    "corpus1= []\n",
    "for i in data1[\"Lemmatized_Text\"]:\n",
    "    msg = ' '.join([row for row in i])\n",
    "    corpus1.append(msg)\n",
    "    \n",
    "corpus1[:5]\n",
    "print(\"\\033[1m\\u001b[45;1m The First 5 lines in corpus :\\033[0m\",*corpus1[:5], sep = \"\\n\")"
   ]
  },
  {
   "cell_type": "code",
   "execution_count": 31,
   "id": "9b5ad9f5",
   "metadata": {},
   "outputs": [
    {
     "name": "stdout",
     "output_type": "stream",
     "text": [
      "\u001b[1m\u001b[45;1m The First 5 lines of test dataset in corpus :\u001b[0m\n",
      "prabha soryda realy frm heart sory\n",
      "jus chillaxin\n",
      "ok prob take ur time\n",
      "congrats mobile g videophones r call videochat wid ur mat play java game dload polyh music noline rentl bx ip pm\n",
      "thankyou much call appreciate care\n"
     ]
    }
   ],
   "source": [
    "#Creating a corpus of text feature to encode further into vectorized form\n",
    "corpus2= []\n",
    "for i in data2[\"Lemmatized_Text\"]:\n",
    "    msg = ' '.join([row for row in i])\n",
    "    corpus2.append(msg)\n",
    "    \n",
    "corpus2[:5]\n",
    "print(\"\\033[1m\\u001b[45;1m The First 5 lines of test dataset in corpus :\\033[0m\",*corpus2[:5], sep = \"\\n\")"
   ]
  },
  {
   "cell_type": "code",
   "execution_count": 32,
   "id": "a22db663",
   "metadata": {},
   "outputs": [
    {
     "data": {
      "text/plain": [
       "dtype('float64')"
      ]
     },
     "execution_count": 32,
     "metadata": {},
     "output_type": "execute_result"
    }
   ],
   "source": [
    "#Changing text data in to numbers. \n",
    "tfidf = TfidfVectorizer()\n",
    "X = tfidf.fit_transform(corpus1).toarray()\n",
    "#Let's have a look at our feature \n",
    "X.dtype"
   ]
  },
  {
   "cell_type": "code",
   "execution_count": 33,
   "id": "a25d6c16",
   "metadata": {},
   "outputs": [],
   "source": [
    "#Label encode the Target and use it as y\n",
    "label_encoder = LabelEncoder()\n",
    "data1[\"Target\"] = label_encoder.fit_transform(data1[\"Target\"])"
   ]
  },
  {
   "cell_type": "markdown",
   "id": "0c0bfd31",
   "metadata": {},
   "source": [
    "Steps involved in the Model Building\n",
    "\n",
    "Setting up features and target as X and y\n",
    "Splitting the testing and training sets\n",
    "Build a pipeline of model for four different classifiers.\n",
    "Naïve Bayes\n",
    "RandomForestClassifier\n",
    "KNeighborsClassifier\n",
    "Support Vector Machines\n",
    "Fit all the models on training data\n",
    "Get the cross-validation on the training set for all the models for accuracy"
   ]
  },
  {
   "cell_type": "code",
   "execution_count": 34,
   "id": "2543c666",
   "metadata": {},
   "outputs": [],
   "source": [
    "from sklearn.naive_bayes import MultinomialNB\n",
    "from sklearn.ensemble import RandomForestClassifier\n",
    "from sklearn.neighbors import KNeighborsClassifier\n",
    "from sklearn.svm import SVC"
   ]
  },
  {
   "cell_type": "code",
   "execution_count": 35,
   "id": "e64cfda3",
   "metadata": {},
   "outputs": [],
   "source": [
    "#Setting values for labels and feature as y and X(we already did X in vectorizing...)\n",
    "y = data1[\"Target\"] \n",
    "# Splitting the testing and training sets\n",
    "X_train, X_test, y_train, y_test = train_test_split(X, y, test_size=0.2, random_state=42)"
   ]
  },
  {
   "cell_type": "code",
   "execution_count": 36,
   "id": "466673eb",
   "metadata": {},
   "outputs": [
    {
     "name": "stdout",
     "output_type": "stream",
     "text": [
      "97.86\n"
     ]
    }
   ],
   "source": [
    "# Support Vector Machines\n",
    "from sklearn.svm import SVC\n",
    "\n",
    "svc = SVC()\n",
    "svc.fit(X_train, y_train)\n",
    "y_pred = svc.predict(X_test)\n",
    "acc_svc = round(accuracy_score(y_pred, y_test) * 100, 2)\n",
    "print(acc_svc)\n",
    "\n",
    "  "
   ]
  },
  {
   "cell_type": "code",
   "execution_count": 37,
   "id": "3d5bafb6",
   "metadata": {},
   "outputs": [
    {
     "name": "stdout",
     "output_type": "stream",
     "text": [
      "97.52\n"
     ]
    }
   ],
   "source": [
    "# Random Forest\n",
    "from sklearn.ensemble import RandomForestClassifier\n",
    "\n",
    "randomforest = RandomForestClassifier()\n",
    "randomforest.fit(X_train, y_train)\n",
    "y_pred = randomforest.predict(X_test)\n",
    "acc_randomforest = round(accuracy_score(y_pred, y_test) * 100, 2)\n",
    "print(acc_randomforest)"
   ]
  },
  {
   "cell_type": "code",
   "execution_count": 38,
   "id": "b686b857",
   "metadata": {},
   "outputs": [
    {
     "name": "stdout",
     "output_type": "stream",
     "text": [
      "97.07\n"
     ]
    }
   ],
   "source": [
    "# Gradient Boosting Classifier\n",
    "from sklearn.ensemble import GradientBoostingClassifier\n",
    "\n",
    "gbk = GradientBoostingClassifier()\n",
    "gbk.fit(X_train, y_train)\n",
    "y_pred = gbk.predict(X_test)\n",
    "acc_gbk = round(accuracy_score(y_pred, y_test) * 100, 2)\n",
    "print(acc_gbk)"
   ]
  },
  {
   "cell_type": "code",
   "execution_count": 40,
   "id": "06e17797",
   "metadata": {},
   "outputs": [
    {
     "name": "stdout",
     "output_type": "stream",
     "text": [
      "91.44\n"
     ]
    }
   ],
   "source": [
    "# K Neighbor Classifier\n",
    "from sklearn.neighbors import KNeighborsClassifier\n",
    "\n",
    "knn = KNeighborsClassifier()\n",
    "knn.fit(X_train, y_train)\n",
    "y_pred = knn.predict(X_test)\n",
    "acc_knn = round(accuracy_score(y_pred, y_test) * 100, 2)\n",
    "print(acc_knn)"
   ]
  },
  {
   "cell_type": "code",
   "execution_count": 53,
   "id": "8736ac17",
   "metadata": {},
   "outputs": [
    {
     "name": "stdout",
     "output_type": "stream",
     "text": [
      "97.3\n"
     ]
    }
   ],
   "source": [
    "#MultinomialNB\n",
    "from sklearn.naive_bayes import MultinomialNB\n",
    "\n",
    "nb = MultinomialNB()\n",
    "nb.fit(X_train, y_train)\n",
    "y_pred = nb.predict(X_test)\n",
    "acc_nb = round(accuracy_score(y_pred, y_test) * 100, 2)\n",
    "print(acc_nb)"
   ]
  },
  {
   "cell_type": "code",
   "execution_count": 42,
   "id": "18bcd7d6",
   "metadata": {},
   "outputs": [
    {
     "data": {
      "text/html": [
       "<div>\n",
       "<style scoped>\n",
       "    .dataframe tbody tr th:only-of-type {\n",
       "        vertical-align: middle;\n",
       "    }\n",
       "\n",
       "    .dataframe tbody tr th {\n",
       "        vertical-align: top;\n",
       "    }\n",
       "\n",
       "    .dataframe thead th {\n",
       "        text-align: right;\n",
       "    }\n",
       "</style>\n",
       "<table border=\"1\" class=\"dataframe\">\n",
       "  <thead>\n",
       "    <tr style=\"text-align: right;\">\n",
       "      <th></th>\n",
       "      <th>Model</th>\n",
       "      <th>Score</th>\n",
       "    </tr>\n",
       "  </thead>\n",
       "  <tbody>\n",
       "    <tr>\n",
       "      <th>0</th>\n",
       "      <td>Support Vector Machines</td>\n",
       "      <td>97.86</td>\n",
       "    </tr>\n",
       "    <tr>\n",
       "      <th>1</th>\n",
       "      <td>Random Forest</td>\n",
       "      <td>97.52</td>\n",
       "    </tr>\n",
       "    <tr>\n",
       "      <th>4</th>\n",
       "      <td>MultinomialNB</td>\n",
       "      <td>97.30</td>\n",
       "    </tr>\n",
       "    <tr>\n",
       "      <th>2</th>\n",
       "      <td>Gradient Boosting Classifier</td>\n",
       "      <td>97.07</td>\n",
       "    </tr>\n",
       "    <tr>\n",
       "      <th>3</th>\n",
       "      <td>K Neighbor Classifier</td>\n",
       "      <td>91.44</td>\n",
       "    </tr>\n",
       "  </tbody>\n",
       "</table>\n",
       "</div>"
      ],
      "text/plain": [
       "                          Model  Score\n",
       "0       Support Vector Machines  97.86\n",
       "1                 Random Forest  97.52\n",
       "4                 MultinomialNB  97.30\n",
       "2  Gradient Boosting Classifier  97.07\n",
       "3         K Neighbor Classifier  91.44"
      ]
     },
     "execution_count": 42,
     "metadata": {},
     "output_type": "execute_result"
    }
   ],
   "source": [
    "models = pd.DataFrame({\n",
    "    'Model': ['Support Vector Machines','Random Forest', 'Gradient Boosting Classifier','K Neighbor Classifier','MultinomialNB'],\n",
    "    'Score': [acc_svc, \n",
    "              acc_randomforest,\n",
    "               acc_gbk,acc_knn,acc_nb]})\n",
    "models.sort_values(by='Score', ascending=False)"
   ]
  },
  {
   "cell_type": "code",
   "execution_count": 51,
   "id": "72500700",
   "metadata": {},
   "outputs": [],
   "source": [
    "classifiers = [MultinomialNB(), \n",
    "               RandomForestClassifier(),\n",
    "               KNeighborsClassifier(), \n",
    "               SVC()]"
   ]
  },
  {
   "cell_type": "code",
   "execution_count": 56,
   "id": "bf7d2e19",
   "metadata": {},
   "outputs": [],
   "source": [
    "# Model Evaluation\n",
    "# creating lists of varios scores\n",
    "precision =[]\n",
    "recall =[]\n",
    "f1_score = []\n",
    "trainset_accuracy = []\n",
    "testset_accuracy = []\n",
    "\n",
    "for i in classifiers:\n",
    "    i.fit(X_train, y_train)\n",
    "    pred_train = i.predict(X_train)\n",
    "    pred_test = i.predict(X_test)\n",
    "    prec = metrics.precision_score(y_test, pred_test)\n",
    "    recal = metrics.recall_score(y_test, pred_test)\n",
    "    f1_s = metrics.f1_score(y_test, pred_test)\n",
    "    train_accuracy = i.score(X_train,y_train)\n",
    "    test_accuracy = i.score(X_test,y_test)\n",
    "  \n",
    "    #Appending scores\n",
    "    precision.append(prec)\n",
    "    recall.append(recal)\n",
    "    f1_score.append(f1_s)\n",
    "    trainset_accuracy.append(train_accuracy)\n",
    "    testset_accuracy.append(test_accuracy)"
   ]
  },
  {
   "cell_type": "code",
   "execution_count": 59,
   "id": "a2126a54",
   "metadata": {},
   "outputs": [],
   "source": [
    "# initialise data of lists.\n",
    "data = {'Precision':precision,\n",
    "'Recall':recall,\n",
    "'F1score':f1_score,\n",
    "'Accuracy on Testset':testset_accuracy,\n",
    "'Accuracy on Trainset':trainset_accuracy}\n",
    "# Creates pandas DataFrame.\n",
    "Results = pd.DataFrame(data, index =classifiers)"
   ]
  },
  {
   "cell_type": "code",
   "execution_count": 60,
   "id": "f7904318",
   "metadata": {},
   "outputs": [
    {
     "data": {
      "text/html": [
       "<style  type=\"text/css\" >\n",
       "#T_e13a95a4_91eb_11ee_bf45_74dfbf389e1crow0_col0,#T_e13a95a4_91eb_11ee_bf45_74dfbf389e1crow0_col1,#T_e13a95a4_91eb_11ee_bf45_74dfbf389e1crow0_col2,#T_e13a95a4_91eb_11ee_bf45_74dfbf389e1crow0_col3,#T_e13a95a4_91eb_11ee_bf45_74dfbf389e1crow0_col4,#T_e13a95a4_91eb_11ee_bf45_74dfbf389e1crow1_col1,#T_e13a95a4_91eb_11ee_bf45_74dfbf389e1crow1_col2,#T_e13a95a4_91eb_11ee_bf45_74dfbf389e1crow1_col3,#T_e13a95a4_91eb_11ee_bf45_74dfbf389e1crow1_col4,#T_e13a95a4_91eb_11ee_bf45_74dfbf389e1crow2_col0,#T_e13a95a4_91eb_11ee_bf45_74dfbf389e1crow3_col0,#T_e13a95a4_91eb_11ee_bf45_74dfbf389e1crow3_col1,#T_e13a95a4_91eb_11ee_bf45_74dfbf389e1crow3_col2,#T_e13a95a4_91eb_11ee_bf45_74dfbf389e1crow3_col3,#T_e13a95a4_91eb_11ee_bf45_74dfbf389e1crow3_col4{\n",
       "            background-color:  #e598d8;\n",
       "            color:  #000000;\n",
       "        }#T_e13a95a4_91eb_11ee_bf45_74dfbf389e1crow1_col0,#T_e13a95a4_91eb_11ee_bf45_74dfbf389e1crow2_col1,#T_e13a95a4_91eb_11ee_bf45_74dfbf389e1crow2_col2,#T_e13a95a4_91eb_11ee_bf45_74dfbf389e1crow2_col3,#T_e13a95a4_91eb_11ee_bf45_74dfbf389e1crow2_col4{\n",
       "            background-color:  #e2ccff;\n",
       "            color:  #000000;\n",
       "        }</style><table id=\"T_e13a95a4_91eb_11ee_bf45_74dfbf389e1c\" ><thead>    <tr>        <th class=\"blank level0\" ></th>        <th class=\"col_heading level0 col0\" >Precision</th>        <th class=\"col_heading level0 col1\" >Recall</th>        <th class=\"col_heading level0 col2\" >F1score</th>        <th class=\"col_heading level0 col3\" >Accuracy on Testset</th>        <th class=\"col_heading level0 col4\" >Accuracy on Trainset</th>    </tr></thead><tbody>\n",
       "                <tr>\n",
       "                        <th id=\"T_e13a95a4_91eb_11ee_bf45_74dfbf389e1clevel0_row0\" class=\"row_heading level0 row0\" >MultinomialNB()</th>\n",
       "                        <td id=\"T_e13a95a4_91eb_11ee_bf45_74dfbf389e1crow0_col0\" class=\"data row0 col0\" >1.000000</td>\n",
       "                        <td id=\"T_e13a95a4_91eb_11ee_bf45_74dfbf389e1crow0_col1\" class=\"data row0 col1\" >0.798319</td>\n",
       "                        <td id=\"T_e13a95a4_91eb_11ee_bf45_74dfbf389e1crow0_col2\" class=\"data row0 col2\" >0.887850</td>\n",
       "                        <td id=\"T_e13a95a4_91eb_11ee_bf45_74dfbf389e1crow0_col3\" class=\"data row0 col3\" >0.972973</td>\n",
       "                        <td id=\"T_e13a95a4_91eb_11ee_bf45_74dfbf389e1crow0_col4\" class=\"data row0 col4\" >0.973803</td>\n",
       "            </tr>\n",
       "            <tr>\n",
       "                        <th id=\"T_e13a95a4_91eb_11ee_bf45_74dfbf389e1clevel0_row1\" class=\"row_heading level0 row1\" >RandomForestClassifier()</th>\n",
       "                        <td id=\"T_e13a95a4_91eb_11ee_bf45_74dfbf389e1crow1_col0\" class=\"data row1 col0\" >0.979592</td>\n",
       "                        <td id=\"T_e13a95a4_91eb_11ee_bf45_74dfbf389e1crow1_col1\" class=\"data row1 col1\" >0.806723</td>\n",
       "                        <td id=\"T_e13a95a4_91eb_11ee_bf45_74dfbf389e1crow1_col2\" class=\"data row1 col2\" >0.884793</td>\n",
       "                        <td id=\"T_e13a95a4_91eb_11ee_bf45_74dfbf389e1crow1_col3\" class=\"data row1 col3\" >0.971847</td>\n",
       "                        <td id=\"T_e13a95a4_91eb_11ee_bf45_74dfbf389e1crow1_col4\" class=\"data row1 col4\" >1.000000</td>\n",
       "            </tr>\n",
       "            <tr>\n",
       "                        <th id=\"T_e13a95a4_91eb_11ee_bf45_74dfbf389e1clevel0_row2\" class=\"row_heading level0 row2\" >KNeighborsClassifier()</th>\n",
       "                        <td id=\"T_e13a95a4_91eb_11ee_bf45_74dfbf389e1crow2_col0\" class=\"data row2 col0\" >1.000000</td>\n",
       "                        <td id=\"T_e13a95a4_91eb_11ee_bf45_74dfbf389e1crow2_col1\" class=\"data row2 col1\" >0.361345</td>\n",
       "                        <td id=\"T_e13a95a4_91eb_11ee_bf45_74dfbf389e1crow2_col2\" class=\"data row2 col2\" >0.530864</td>\n",
       "                        <td id=\"T_e13a95a4_91eb_11ee_bf45_74dfbf389e1crow2_col3\" class=\"data row2 col3\" >0.914414</td>\n",
       "                        <td id=\"T_e13a95a4_91eb_11ee_bf45_74dfbf389e1crow2_col4\" class=\"data row2 col4\" >0.919437</td>\n",
       "            </tr>\n",
       "            <tr>\n",
       "                        <th id=\"T_e13a95a4_91eb_11ee_bf45_74dfbf389e1clevel0_row3\" class=\"row_heading level0 row3\" >SVC()</th>\n",
       "                        <td id=\"T_e13a95a4_91eb_11ee_bf45_74dfbf389e1crow3_col0\" class=\"data row3 col0\" >0.990196</td>\n",
       "                        <td id=\"T_e13a95a4_91eb_11ee_bf45_74dfbf389e1crow3_col1\" class=\"data row3 col1\" >0.848739</td>\n",
       "                        <td id=\"T_e13a95a4_91eb_11ee_bf45_74dfbf389e1crow3_col2\" class=\"data row3 col2\" >0.914027</td>\n",
       "                        <td id=\"T_e13a95a4_91eb_11ee_bf45_74dfbf389e1crow3_col3\" class=\"data row3 col3\" >0.978604</td>\n",
       "                        <td id=\"T_e13a95a4_91eb_11ee_bf45_74dfbf389e1crow3_col4\" class=\"data row3 col4\" >0.998028</td>\n",
       "            </tr>\n",
       "    </tbody></table>"
      ],
      "text/plain": [
       "<pandas.io.formats.style.Styler at 0x26e3cf28>"
      ]
     },
     "execution_count": 60,
     "metadata": {},
     "output_type": "execute_result"
    }
   ],
   "source": [
    "cmap2 = ListedColormap([\"#E2CCFF\",\"#E598D8\"])\n",
    "Results.style.background_gradient(cmap=cmap2)"
   ]
  },
  {
   "cell_type": "code",
   "execution_count": 61,
   "id": "e30c27c5",
   "metadata": {},
   "outputs": [
    {
     "data": {
      "image/png": "[encoded data removed]",
      "text/plain": [
       "<Figure size 1080x720 with 8 Axes>"
      ]
     },
     "metadata": {
      "needs_background": "light"
     },
     "output_type": "display_data"
    }
   ],
   "source": [
    "cmap = ListedColormap([\"#E1F16B\", \"#E598D8\"])\n",
    "fig, axes = plt.subplots(nrows=2, ncols=2, figsize=(15,10))\n",
    "\n",
    "for cls, ax in zip(classifiers, axes.flatten()):\n",
    "    plot_confusion_matrix(cls, \n",
    "                          X_test, \n",
    "                          y_test, \n",
    "                          ax=ax, \n",
    "                          cmap= cmap,   \n",
    "                          )\n",
    "    ax.title.set_text(type(cls).__name__)\n",
    "plt.tight_layout()  \n",
    "plt.show()"
   ]
  }
 ],
 "metadata": {
  "kernelspec": {
   "display_name": "Python 3",
   "language": "python",
   "name": "python3"
  },
  "language_info": {
   "codemirror_mode": {
    "name": "ipython",
    "version": 3
   },
   "file_extension": ".py",
   "mimetype": "text/x-python",
   "name": "python",
   "nbconvert_exporter": "python",
   "pygments_lexer": "ipython3",
   "version": "3.6.8"
  }
 },
 "nbformat": 4,
 "nbformat_minor": 5
}
